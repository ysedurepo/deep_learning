{
  "nbformat": 4,
  "nbformat_minor": 0,
  "metadata": {
    "colab": {
      "provenance": [],
      "authorship_tag": "ABX9TyO7eI/rTIbb8vIAxZk7ENuQ",
      "include_colab_link": true
    },
    "kernelspec": {
      "name": "python3",
      "display_name": "Python 3"
    },
    "language_info": {
      "name": "python"
    }
  },
  "cells": [
    {
      "cell_type": "markdown",
      "metadata": {
        "id": "view-in-github",
        "colab_type": "text"
      },
      "source": [
        "<a href=\"https://colab.research.google.com/github/ysedurepo/deep_learning/blob/main/D%C3%A9mo_ANN_basics.ipynb\" target=\"_parent\"><img src=\"https://colab.research.google.com/assets/colab-badge.svg\" alt=\"Open In Colab\"/></a>"
      ]
    },
    {
      "cell_type": "code",
      "execution_count": 1,
      "metadata": {
        "id": "brwSfbmMTo4r"
      },
      "outputs": [],
      "source": [
        "import torch\n",
        "import torch.nn as nn\n",
        "from torch.utils.data import Dataset, DataLoader"
      ]
    },
    {
      "cell_type": "code",
      "source": [
        "device = \"cuda\" if torch.cuda.is_available() else \"cpu\"\n",
        "device"
      ],
      "metadata": {
        "id": "iqpe_4SLbR1P",
        "colab": {
          "base_uri": "https://localhost:8080/",
          "height": 35
        },
        "outputId": "dcb1b4ca-f662-45af-842b-71cc4b29ed06"
      },
      "execution_count": 2,
      "outputs": [
        {
          "output_type": "execute_result",
          "data": {
            "text/plain": [
              "'cpu'"
            ],
            "application/vnd.google.colaboratory.intrinsic+json": {
              "type": "string"
            }
          },
          "metadata": {},
          "execution_count": 2
        }
      ]
    },
    {
      "cell_type": "code",
      "source": [
        "#Input data\n",
        "x = [[1,2], [3,4], [5,6], [7,8]]\n",
        "y = [[3], [7], [11], [15]]\n",
        "X = torch.tensor(x, dtype=torch.float32)\n",
        "Y = torch.tensor(y, dtype=torch.float32)\n",
        "X = X.to(device)\n",
        "Y = Y.to(device)"
      ],
      "metadata": {
        "id": "XkmqFXm3avva"
      },
      "execution_count": 3,
      "outputs": []
    },
    {
      "cell_type": "code",
      "source": [
        "#Dataset\n",
        "class MyDataset(Dataset):\n",
        "    def __init__(self, x, y):\n",
        "        self.x = x.to(device)\n",
        "        self.y = y.to(device)\n",
        "    def __getitem__(self, index):\n",
        "        return self.x[index], self.y[index]\n",
        "    def __len__(self):\n",
        "        return len(self.x)\n"
      ],
      "metadata": {
        "id": "crwTedCYbbVW"
      },
      "execution_count": 4,
      "outputs": []
    },
    {
      "cell_type": "code",
      "source": [
        "#Data Loader\n",
        "ds = MyDataset(X, Y)\n",
        "dl = DataLoader(ds, batch_size=2, shuffle=True)\n",
        "\n",
        "for x, y in dl:\n",
        "  print(x,y)"
      ],
      "metadata": {
        "colab": {
          "base_uri": "https://localhost:8080/"
        },
        "id": "Mj44dJvPb45z",
        "outputId": "c3d84163-be36-42b8-edb4-0fe85b33c3a0"
      },
      "execution_count": 5,
      "outputs": [
        {
          "output_type": "stream",
          "name": "stdout",
          "text": [
            "tensor([[7., 8.],\n",
            "        [1., 2.]]) tensor([[15.],\n",
            "        [ 3.]])\n",
            "tensor([[3., 4.],\n",
            "        [5., 6.]]) tensor([[ 7.],\n",
            "        [11.]])\n"
          ]
        }
      ]
    },
    {
      "cell_type": "code",
      "source": [
        "#The Model\n",
        "class MyNeuralNet(nn.Module):\n",
        "    def __init__(self):\n",
        "        super().__init__()\n",
        "        self.input_to_hidden_layer = nn.Linear(2,8)\n",
        "        self.hidden_layer_activation = nn.ReLU()\n",
        "        self.hidden_to_output_layer = nn.Linear(8,1)\n",
        "    def forward(self, x):\n",
        "        x = self.input_to_hidden_layer(x)\n",
        "        x = self.hidden_layer_activation(x)\n",
        "        x = self.hidden_to_output_layer(x)\n",
        "        return x"
      ],
      "metadata": {
        "id": "dhpRwyWVcR4a"
      },
      "execution_count": 39,
      "outputs": []
    },
    {
      "cell_type": "code",
      "source": [
        "#Loss and Optimizer\n",
        "from torch import optim\n",
        "loss_func = nn.MSELoss()\n",
        "\n",
        "model = MyNeuralNet().to(device)\n",
        "optimizer = optim.SGD(model.parameters(), lr=0.001)"
      ],
      "metadata": {
        "id": "KfK1HZ7pdRRx"
      },
      "execution_count": 40,
      "outputs": []
    },
    {
      "cell_type": "code",
      "source": [
        "#Access initial weight of a layer\n",
        "model.input_to_hidden_layer.weight"
      ],
      "metadata": {
        "colab": {
          "base_uri": "https://localhost:8080/"
        },
        "id": "TFKkJRKx8epz",
        "outputId": "ac458ac7-21c7-4957-9745-b4960b2b59d5"
      },
      "execution_count": 41,
      "outputs": [
        {
          "output_type": "execute_result",
          "data": {
            "text/plain": [
              "Parameter containing:\n",
              "tensor([[-0.6802,  0.0982],\n",
              "        [ 0.2161, -0.6831],\n",
              "        [ 0.2228, -0.5055],\n",
              "        [-0.2431, -0.6105],\n",
              "        [ 0.3625,  0.1850],\n",
              "        [-0.3740, -0.2166],\n",
              "        [ 0.0674, -0.3461],\n",
              "        [ 0.5838,  0.2195]], requires_grad=True)"
            ]
          },
          "metadata": {},
          "execution_count": 41
        }
      ]
    },
    {
      "cell_type": "code",
      "source": [
        "model.input_to_hidden_layer.weight.shape"
      ],
      "metadata": {
        "colab": {
          "base_uri": "https://localhost:8080/"
        },
        "id": "RxBPRgq2897t",
        "outputId": "684ed56e-2e2e-45b2-8859-9508f299300f"
      },
      "execution_count": 42,
      "outputs": [
        {
          "output_type": "execute_result",
          "data": {
            "text/plain": [
              "torch.Size([8, 2])"
            ]
          },
          "metadata": {},
          "execution_count": 42
        }
      ]
    },
    {
      "cell_type": "code",
      "source": [
        "#Acees the bias\n",
        "model.input_to_hidden_layer.bias"
      ],
      "metadata": {
        "colab": {
          "base_uri": "https://localhost:8080/"
        },
        "id": "S3-U7v2v8vTa",
        "outputId": "7d736a77-6c5f-46ab-a390-0443e37bb372"
      },
      "execution_count": 43,
      "outputs": [
        {
          "output_type": "execute_result",
          "data": {
            "text/plain": [
              "Parameter containing:\n",
              "tensor([-0.2821,  0.2077,  0.5876,  0.2135,  0.2788,  0.1806,  0.1725, -0.4972],\n",
              "       requires_grad=True)"
            ]
          },
          "metadata": {},
          "execution_count": 43
        }
      ]
    },
    {
      "cell_type": "code",
      "source": [
        "model.input_to_hidden_layer.bias.shape"
      ],
      "metadata": {
        "colab": {
          "base_uri": "https://localhost:8080/"
        },
        "id": "8282nm2m9D_v",
        "outputId": "327efd51-eff1-4e38-da6d-1e1d1b184126"
      },
      "execution_count": 44,
      "outputs": [
        {
          "output_type": "execute_result",
          "data": {
            "text/plain": [
              "torch.Size([8])"
            ]
          },
          "metadata": {},
          "execution_count": 44
        }
      ]
    },
    {
      "cell_type": "code",
      "source": [
        "#Acces all model parameters\n",
        "for par in model.parameters():\n",
        "  #print(par.shape)\n",
        "  print(par)"
      ],
      "metadata": {
        "colab": {
          "base_uri": "https://localhost:8080/"
        },
        "id": "7yGAX8EY9Zk7",
        "outputId": "895cc2e5-9f5c-4ac4-cf39-10d9f2f101a2"
      },
      "execution_count": 45,
      "outputs": [
        {
          "output_type": "stream",
          "name": "stdout",
          "text": [
            "Parameter containing:\n",
            "tensor([[-0.6802,  0.0982],\n",
            "        [ 0.2161, -0.6831],\n",
            "        [ 0.2228, -0.5055],\n",
            "        [-0.2431, -0.6105],\n",
            "        [ 0.3625,  0.1850],\n",
            "        [-0.3740, -0.2166],\n",
            "        [ 0.0674, -0.3461],\n",
            "        [ 0.5838,  0.2195]], requires_grad=True)\n",
            "Parameter containing:\n",
            "tensor([-0.2821,  0.2077,  0.5876,  0.2135,  0.2788,  0.1806,  0.1725, -0.4972],\n",
            "       requires_grad=True)\n",
            "Parameter containing:\n",
            "tensor([[-0.2726,  0.1225, -0.2685,  0.0936,  0.1892, -0.3099, -0.1270, -0.0636]],\n",
            "       requires_grad=True)\n",
            "Parameter containing:\n",
            "tensor([-0.2732], requires_grad=True)\n"
          ]
        }
      ]
    },
    {
      "cell_type": "code",
      "source": [
        "#An alternative way of defining the model using the nn.Parameter function is as follows:\n",
        "class MyNeuralNet1(nn.Module):\n",
        "  def __init__(self):\n",
        "    super().__init__()\n",
        "    self.input_to_hidden_layer = nn.Parameter(torch.rand(2,8))\n",
        "    self.hidden_layer_activation = nn.ReLU()\n",
        "    self.hidden_to_output_layer = nn.Parameter(torch.rand(8,1))\n",
        "  def forward(self, x):\n",
        "    x = x @ self.input_to_hidden_layer\n",
        "    x = self.hidden_layer_activation(x)\n",
        "    x = x @ self.hidden_to_output_layer\n",
        "    return x"
      ],
      "metadata": {
        "id": "PKAv_Ldt-IpH"
      },
      "execution_count": 15,
      "outputs": []
    },
    {
      "cell_type": "code",
      "source": [
        "# Training\n",
        "\n",
        "import time\n",
        "loss_history = []\n",
        "start = time.time()\n",
        "EPOCHS = 50\n",
        "\n",
        "for _ in range(EPOCHS):\n",
        "  for x,y in dl:\n",
        "    optimizer.zero_grad()\n",
        "    prediction = model(x)\n",
        "    loss = loss_func(prediction, y)\n",
        "    loss.backward()\n",
        "    optimizer.step()\n",
        "    loss_history.append(loss.item())\n",
        "\n",
        "end = time.time()\n",
        "print(end - start)"
      ],
      "metadata": {
        "colab": {
          "base_uri": "https://localhost:8080/"
        },
        "id": "xY_IazBhd4-w",
        "outputId": "a96965c4-1c8e-4f22-f1e7-a87cd9b4acbd"
      },
      "execution_count": 46,
      "outputs": [
        {
          "output_type": "stream",
          "name": "stdout",
          "text": [
            "0.13310503959655762\n"
          ]
        }
      ]
    },
    {
      "cell_type": "code",
      "source": [
        "#Plotting Losses over epochs\n",
        "import matplotlib.pyplot as plt\n",
        "%matplotlib inline\n",
        "plt.plot(loss_history)\n",
        "plt.title('Loss variation over increasing epochs')\n",
        "plt.xlabel('epochs')\n",
        "plt.ylabel('loss value')"
      ],
      "metadata": {
        "colab": {
          "base_uri": "https://localhost:8080/",
          "height": 489
        },
        "id": "lvem7sC39YTc",
        "outputId": "0faa4936-75c8-45d9-d441-31c4e064848c"
      },
      "execution_count": 47,
      "outputs": [
        {
          "output_type": "execute_result",
          "data": {
            "text/plain": [
              "Text(0, 0.5, 'loss value')"
            ]
          },
          "metadata": {},
          "execution_count": 47
        },
        {
          "output_type": "display_data",
          "data": {
            "text/plain": [
              "<Figure size 640x480 with 1 Axes>"
            ],
            "image/png": "[encoded data removed]"
          },
          "metadata": {}
        }
      ]
    },
    {
      "cell_type": "code",
      "source": [
        "#Prediction\n",
        "val_x = [[10, 11]]\n",
        "val_x = torch.tensor(val_x, dtype=torch.float32)\n",
        "val_x = val_x.to(device)\n",
        "pred = model(val_x)\n",
        "pred"
      ],
      "metadata": {
        "colab": {
          "base_uri": "https://localhost:8080/"
        },
        "id": "nVyhbvErfES-",
        "outputId": "bfd9305b-8713-469f-938a-0008c195c7e6"
      },
      "execution_count": 48,
      "outputs": [
        {
          "output_type": "execute_result",
          "data": {
            "text/plain": [
              "tensor([[21.1685]], grad_fn=<AddmmBackward0>)"
            ]
          },
          "metadata": {},
          "execution_count": 48
        }
      ]
    },
    {
      "cell_type": "code",
      "source": [
        "#Implementing a custom loss function\n",
        "def my_mse (_y, y):\n",
        "  loss = (_y -y)**2\n",
        "  loss = loss.mean()\n",
        "  return loss"
      ],
      "metadata": {
        "id": "I3QoLBYhfeTL"
      },
      "execution_count": 49,
      "outputs": []
    },
    {
      "cell_type": "code",
      "source": [
        "#Comparing losses\n",
        "loss_func = nn.MSELoss()\n",
        "loss1 = loss_func(model(X), Y)\n",
        "\n",
        "loss2 = my_mse(model(X), Y)\n",
        "print(loss1, loss2)"
      ],
      "metadata": {
        "colab": {
          "base_uri": "https://localhost:8080/"
        },
        "id": "h4XP_Dt_i1Mq",
        "outputId": "3a101174-61f8-46d8-912e-4ffe0985ddb2"
      },
      "execution_count": 50,
      "outputs": [
        {
          "output_type": "stream",
          "name": "stdout",
          "text": [
            "tensor(0.0069, grad_fn=<MseLossBackward0>) tensor(0.0069, grad_fn=<MeanBackward0>)\n"
          ]
        }
      ]
    },
    {
      "cell_type": "code",
      "source": [
        "#Fetching the values of intermediate layers\n",
        "input_to_hidden = model.input_to_hidden_layer(X)\n",
        "input_to_hidden"
      ],
      "metadata": {
        "colab": {
          "base_uri": "https://localhost:8080/"
        },
        "id": "yob5kQrnkV8D",
        "outputId": "c69e0fc0-b65e-497f-8278-3e8b539095b5"
      },
      "execution_count": 51,
      "outputs": [
        {
          "output_type": "execute_result",
          "data": {
            "text/plain": [
              "tensor([[-0.7660, -0.9425, -0.2005, -1.2505,  2.3944, -0.6266, -0.4524,  1.1561],\n",
              "        [-1.9302, -1.8765, -0.7658, -2.9575,  5.1702, -1.8078, -1.0099,  3.5269],\n",
              "        [-3.0944, -2.8105, -1.3312, -4.6646,  7.9461, -2.9889, -1.5674,  5.8977],\n",
              "        [-4.2586, -3.7446, -1.8965, -6.3716, 10.7219, -4.1701, -2.1249,  8.2685]],\n",
              "       grad_fn=<AddmmBackward0>)"
            ]
          },
          "metadata": {},
          "execution_count": 51
        }
      ]
    },
    {
      "cell_type": "code",
      "source": [
        "input_to_hidden.shape"
      ],
      "metadata": {
        "id": "kpAYXfFSjWSK",
        "colab": {
          "base_uri": "https://localhost:8080/"
        },
        "outputId": "a09ed98b-7a7a-4c55-a0ed-962e1d10783d"
      },
      "execution_count": 52,
      "outputs": [
        {
          "output_type": "execute_result",
          "data": {
            "text/plain": [
              "torch.Size([4, 8])"
            ]
          },
          "metadata": {},
          "execution_count": 52
        }
      ]
    },
    {
      "cell_type": "code",
      "source": [
        "#Specifying the layers that we want to look at in the forward method.\n",
        "class NeuralNet2(nn.Module):\n",
        "  def __init__(self):\n",
        "    super().__init__()\n",
        "    self.input_to_hidden_layer = nn.Linear(2,8)\n",
        "    self.hidden_layer_activation = nn.ReLU()\n",
        "    self.hidden_to_output_layer = nn.Linear(8,1)\n",
        "  def forward(self, x):\n",
        "    hidden1 = self.input_to_hidden_layer(x)\n",
        "    hidden2 = self.hidden_layer_activation(hidden1)\n",
        "    output = self.hidden_to_output_layer(hidden2)\n",
        "    return output, hidden2"
      ],
      "metadata": {
        "id": "fiacMBFsAgZg"
      },
      "execution_count": 25,
      "outputs": []
    },
    {
      "cell_type": "code",
      "source": [
        "#Accessing the hidden layer output\n",
        "mynet = NeuralNet2().to(device)\n",
        "mynet(X)[1]"
      ],
      "metadata": {
        "colab": {
          "base_uri": "https://localhost:8080/"
        },
        "id": "SlZU8anhBjXa",
        "outputId": "d5ed0bb0-b5ed-4688-9c75-7417f89ad8b5"
      },
      "execution_count": 26,
      "outputs": [
        {
          "output_type": "execute_result",
          "data": {
            "text/plain": [
              "tensor([[0.0000, 0.0000, 0.0000, 0.0000, 0.0000, 0.0000, 0.0000, 0.0847],\n",
              "        [0.0000, 0.0000, 0.0000, 0.0000, 0.6946, 0.0000, 0.0000, 0.3816],\n",
              "        [0.0000, 0.0000, 0.0000, 0.0000, 1.5391, 0.0000, 0.0000, 0.6785],\n",
              "        [0.0000, 0.0000, 0.0000, 0.0000, 2.3835, 0.0000, 0.0000, 0.9754]],\n",
              "       grad_fn=<ReluBackward0>)"
            ]
          },
          "metadata": {},
          "execution_count": 26
        }
      ]
    },
    {
      "cell_type": "code",
      "source": [
        "#Using a sequential method to build a neural network\n",
        "model1 = nn.Sequential(\n",
        "nn.Linear(2, 8),\n",
        "nn.ReLU(),\n",
        "nn.Linear(8, 1)\n",
        ").to(device)"
      ],
      "metadata": {
        "id": "g3XrszPYBwre"
      },
      "execution_count": 27,
      "outputs": []
    },
    {
      "cell_type": "code",
      "source": [
        "#Print a summary of the model\n",
        "!pip install torch_summary\n",
        "from torchsummary import summary\n",
        "\n",
        "summary(model, torch.zeros(1,2))"
      ],
      "metadata": {
        "colab": {
          "base_uri": "https://localhost:8080/"
        },
        "id": "fdTNVndJCI0-",
        "outputId": "7b54c643-47d8-474e-fefa-4d68e5a149fd"
      },
      "execution_count": 53,
      "outputs": [
        {
          "output_type": "stream",
          "name": "stdout",
          "text": [
            "Requirement already satisfied: torch_summary in /usr/local/lib/python3.11/dist-packages (1.4.5)\n",
            "==========================================================================================\n",
            "Layer (type:depth-idx)                   Output Shape              Param #\n",
            "==========================================================================================\n",
            "├─Linear: 1-1                            [-1, 8]                   24\n",
            "├─ReLU: 1-2                              [-1, 8]                   --\n",
            "├─Linear: 1-3                            [-1, 1]                   9\n",
            "==========================================================================================\n",
            "Total params: 33\n",
            "Trainable params: 33\n",
            "Non-trainable params: 0\n",
            "Total mult-adds (M): 0.00\n",
            "==========================================================================================\n",
            "Input size (MB): 0.00\n",
            "Forward/backward pass size (MB): 0.00\n",
            "Params size (MB): 0.00\n",
            "Estimated Total Size (MB): 0.00\n",
            "==========================================================================================\n"
          ]
        },
        {
          "output_type": "execute_result",
          "data": {
            "text/plain": [
              "==========================================================================================\n",
              "Layer (type:depth-idx)                   Output Shape              Param #\n",
              "==========================================================================================\n",
              "├─Linear: 1-1                            [-1, 8]                   24\n",
              "├─ReLU: 1-2                              [-1, 8]                   --\n",
              "├─Linear: 1-3                            [-1, 1]                   9\n",
              "==========================================================================================\n",
              "Total params: 33\n",
              "Trainable params: 33\n",
              "Non-trainable params: 0\n",
              "Total mult-adds (M): 0.00\n",
              "==========================================================================================\n",
              "Input size (MB): 0.00\n",
              "Forward/backward pass size (MB): 0.00\n",
              "Params size (MB): 0.00\n",
              "Estimated Total Size (MB): 0.00\n",
              "=========================================================================================="
            ]
          },
          "metadata": {},
          "execution_count": 53
        }
      ]
    },
    {
      "cell_type": "code",
      "source": [
        "#Predict values on a validation dataset\n",
        "val = [[8,9],[10,11],[1.5,2.5]]\n",
        "model(torch.tensor(val).float().to(device))"
      ],
      "metadata": {
        "colab": {
          "base_uri": "https://localhost:8080/"
        },
        "id": "u9WeYr6tCciG",
        "outputId": "4c1255eb-4112-434c-ee92-585717bbf545"
      },
      "execution_count": 54,
      "outputs": [
        {
          "output_type": "execute_result",
          "data": {
            "text/plain": [
              "tensor([[17.1008],\n",
              "        [21.1685],\n",
              "        [ 3.8810]], grad_fn=<AddmmBackward0>)"
            ]
          },
          "metadata": {},
          "execution_count": 54
        }
      ]
    },
    {
      "cell_type": "code",
      "source": [
        "#Saving and loading a PyTorch model\n",
        "\"\"\"The dictionary in model.state_dict() corresponds to the parameter names (keys) and\n",
        "the values (weight and bias values) corresponding to the model\"\"\"\n",
        "model.state_dict()"
      ],
      "metadata": {
        "colab": {
          "base_uri": "https://localhost:8080/"
        },
        "id": "WmgZu3NsC6xq",
        "outputId": "a531cb37-d27f-4ac8-aa82-d8b38d067227"
      },
      "execution_count": 30,
      "outputs": [
        {
          "output_type": "execute_result",
          "data": {
            "text/plain": [
              "OrderedDict([('input_to_hidden_layer.weight',\n",
              "              tensor([[ 0.1228,  0.5464],\n",
              "                      [ 0.5414,  0.5646],\n",
              "                      [-0.2064,  0.1973],\n",
              "                      [-0.0534, -0.0882],\n",
              "                      [-0.4383,  0.2062],\n",
              "                      [ 0.4646,  0.8289],\n",
              "                      [-0.0847, -0.1005],\n",
              "                      [ 0.6003, -0.5947]])),\n",
              "             ('input_to_hidden_layer.bias',\n",
              "              tensor([ 0.2737,  0.5119,  0.6613, -0.5854,  0.3223, -0.4393, -0.1520,  0.3064])),\n",
              "             ('hidden_to_output_layer.weight',\n",
              "              tensor([[ 0.2913,  0.6245,  0.0629,  0.3048,  0.0306,  0.8273, -0.2856, -0.1747]])),\n",
              "             ('hidden_to_output_layer.bias', tensor([-0.0479]))])"
            ]
          },
          "metadata": {},
          "execution_count": 30
        }
      ]
    },
    {
      "cell_type": "code",
      "source": [
        "#saving\n",
        "\"\"\"A good practice is to transfer the model to\n",
        "the CPU before calling torch.save, as this will save tensors as CPU tensors and not as CUDA tensors.\n",
        "This will help in loading the model onto any machine, whether it contains CUDA capabilities or not.\"\"\"\n",
        "torch.save(model.to('cpu').state_dict(), 'mymodel.pth')"
      ],
      "metadata": {
        "id": "520BYgqWES8p"
      },
      "execution_count": 55,
      "outputs": []
    },
    {
      "cell_type": "code",
      "source": [
        "#Loading\n",
        "model2 = MyNeuralNet().to(device)\n",
        "\n",
        "state_dict = torch.load('mymodel.pth')"
      ],
      "metadata": {
        "id": "UvwIuJh2ErVX"
      },
      "execution_count": 60,
      "outputs": []
    },
    {
      "cell_type": "code",
      "source": [
        "#Loading ...\n",
        "model2.load_state_dict(state_dict)\n",
        "# <All keys matched successfully>\n",
        "model2.to(device)\n",
        "model2(torch.tensor(val).float().to(device))"
      ],
      "metadata": {
        "colab": {
          "base_uri": "https://localhost:8080/"
        },
        "id": "SulzFg4aGvlQ",
        "outputId": "8243448e-e827-4a25-953c-c0954dd9ff6b"
      },
      "execution_count": 61,
      "outputs": [
        {
          "output_type": "execute_result",
          "data": {
            "text/plain": [
              "tensor([[17.1008],\n",
              "        [21.1685],\n",
              "        [ 3.8810]], grad_fn=<AddmmBackward0>)"
            ]
          },
          "metadata": {},
          "execution_count": 61
        }
      ]
    }
  ]
}