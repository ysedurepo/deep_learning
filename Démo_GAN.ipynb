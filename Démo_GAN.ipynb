{
  "nbformat": 4,
  "nbformat_minor": 0,
  "metadata": {
    "colab": {
      "provenance": [],
      "gpuType": "T4",
      "authorship_tag": "ABX9TyOEVfZGghB8eqFgQ+gnz6ki",
      "include_colab_link": true
    },
    "kernelspec": {
      "name": "python3",
      "display_name": "Python 3"
    },
    "language_info": {
      "name": "python"
    },
    "accelerator": "GPU"
  },
  "cells": [
    {
      "cell_type": "markdown",
      "metadata": {
        "id": "view-in-github",
        "colab_type": "text"
      },
      "source": [
        "<a href=\"https://colab.research.google.com/github/ysedurepo/deep_learning/blob/main/D%C3%A9mo_GAN.ipynb\" target=\"_parent\"><img src=\"https://colab.research.google.com/assets/colab-badge.svg\" alt=\"Open In Colab\"/></a>"
      ]
    },
    {
      "cell_type": "code",
      "source": [
        "!pip install -q torch_snippets\n",
        "!pip install torch_snippets==0.15.2"
      ],
      "metadata": {
        "colab": {
          "base_uri": "https://localhost:8080/"
        },
        "collapsed": true,
        "id": "5rlHH-kgYWku",
        "outputId": "fc4efe5a-20b9-479e-b353-55741a9a1d54"
      },
      "execution_count": 8,
      "outputs": [
        {
          "output_type": "stream",
          "name": "stdout",
          "text": [
            "Requirement already satisfied: torch_snippets==0.15.2 in /usr/local/lib/python3.11/dist-packages (0.15.2)\n",
            "Requirement already satisfied: torch in /usr/local/lib/python3.11/dist-packages (from torch_snippets==0.15.2) (2.6.0+cu124)\n",
            "Requirement already satisfied: filelock in /usr/local/lib/python3.11/dist-packages (from torch->torch_snippets==0.15.2) (3.18.0)\n",
            "Requirement already satisfied: typing-extensions>=4.10.0 in /usr/local/lib/python3.11/dist-packages (from torch->torch_snippets==0.15.2) (4.13.2)\n",
            "Requirement already satisfied: networkx in /usr/local/lib/python3.11/dist-packages (from torch->torch_snippets==0.15.2) (3.4.2)\n",
            "Requirement already satisfied: jinja2 in /usr/local/lib/python3.11/dist-packages (from torch->torch_snippets==0.15.2) (3.1.6)\n",
            "Requirement already satisfied: fsspec in /usr/local/lib/python3.11/dist-packages (from torch->torch_snippets==0.15.2) (2025.3.2)\n",
            "Requirement already satisfied: nvidia-cuda-nvrtc-cu12==12.4.127 in /usr/local/lib/python3.11/dist-packages (from torch->torch_snippets==0.15.2) (12.4.127)\n",
            "Requirement already satisfied: nvidia-cuda-runtime-cu12==12.4.127 in /usr/local/lib/python3.11/dist-packages (from torch->torch_snippets==0.15.2) (12.4.127)\n",
            "Requirement already satisfied: nvidia-cuda-cupti-cu12==12.4.127 in /usr/local/lib/python3.11/dist-packages (from torch->torch_snippets==0.15.2) (12.4.127)\n",
            "Requirement already satisfied: nvidia-cudnn-cu12==9.1.0.70 in /usr/local/lib/python3.11/dist-packages (from torch->torch_snippets==0.15.2) (9.1.0.70)\n",
            "Requirement already satisfied: nvidia-cublas-cu12==12.4.5.8 in /usr/local/lib/python3.11/dist-packages (from torch->torch_snippets==0.15.2) (12.4.5.8)\n",
            "Requirement already satisfied: nvidia-cufft-cu12==11.2.1.3 in /usr/local/lib/python3.11/dist-packages (from torch->torch_snippets==0.15.2) (11.2.1.3)\n",
            "Requirement already satisfied: nvidia-curand-cu12==10.3.5.147 in /usr/local/lib/python3.11/dist-packages (from torch->torch_snippets==0.15.2) (10.3.5.147)\n",
            "Requirement already satisfied: nvidia-cusolver-cu12==11.6.1.9 in /usr/local/lib/python3.11/dist-packages (from torch->torch_snippets==0.15.2) (11.6.1.9)\n",
            "Requirement already satisfied: nvidia-cusparse-cu12==12.3.1.170 in /usr/local/lib/python3.11/dist-packages (from torch->torch_snippets==0.15.2) (12.3.1.170)\n",
            "Requirement already satisfied: nvidia-cusparselt-cu12==0.6.2 in /usr/local/lib/python3.11/dist-packages (from torch->torch_snippets==0.15.2) (0.6.2)\n",
            "Requirement already satisfied: nvidia-nccl-cu12==2.21.5 in /usr/local/lib/python3.11/dist-packages (from torch->torch_snippets==0.15.2) (2.21.5)\n",
            "Requirement already satisfied: nvidia-nvtx-cu12==12.4.127 in /usr/local/lib/python3.11/dist-packages (from torch->torch_snippets==0.15.2) (12.4.127)\n",
            "Requirement already satisfied: nvidia-nvjitlink-cu12==12.4.127 in /usr/local/lib/python3.11/dist-packages (from torch->torch_snippets==0.15.2) (12.4.127)\n",
            "Requirement already satisfied: triton==3.2.0 in /usr/local/lib/python3.11/dist-packages (from torch->torch_snippets==0.15.2) (3.2.0)\n",
            "Requirement already satisfied: sympy==1.13.1 in /usr/local/lib/python3.11/dist-packages (from torch->torch_snippets==0.15.2) (1.13.1)\n",
            "Requirement already satisfied: mpmath<1.4,>=1.1.0 in /usr/local/lib/python3.11/dist-packages (from sympy==1.13.1->torch->torch_snippets==0.15.2) (1.3.0)\n",
            "Requirement already satisfied: MarkupSafe>=2.0 in /usr/local/lib/python3.11/dist-packages (from jinja2->torch->torch_snippets==0.15.2) (3.0.2)\n"
          ]
        }
      ]
    },
    {
      "cell_type": "code",
      "execution_count": 9,
      "metadata": {
        "id": "3sICIwnGHJ4D",
        "collapsed": true
      },
      "outputs": [],
      "source": [
        "import torch\n",
        "import torch.nn as nn\n",
        "from torch_snippets import *\n",
        "device = \"cuda\" if torch.cuda.is_available() else \"cpu\"\n",
        "from torchvision.utils import make_grid\n",
        "import torch.optim as optim"
      ]
    },
    {
      "cell_type": "code",
      "source": [
        "from torchvision.datasets import MNIST\n",
        "from torchvision import transforms\n",
        "transform = transforms.Compose([transforms.ToTensor(),transforms.Normalize(mean=(0.5,), std=(0.5,))])\n",
        "data_loader = torch.utils.data.DataLoader(MNIST('~/data', train=True, download=True, transform=transform), batch_size=128, shuffle=True, drop_last=True)"
      ],
      "metadata": {
        "colab": {
          "base_uri": "https://localhost:8080/"
        },
        "id": "PNrx0BneNXtZ",
        "outputId": "67063e40-dd7a-4406-d158-534f3f750a5b",
        "collapsed": true
      },
      "execution_count": 10,
      "outputs": [
        {
          "output_type": "stream",
          "name": "stderr",
          "text": [
            "100%|██████████| 9.91M/9.91M [00:00<00:00, 16.3MB/s]\n",
            "100%|██████████| 28.9k/28.9k [00:00<00:00, 514kB/s]\n",
            "100%|██████████| 1.65M/1.65M [00:00<00:00, 4.51MB/s]\n",
            "100%|██████████| 4.54k/4.54k [00:00<00:00, 4.70MB/s]\n"
          ]
        }
      ]
    },
    {
      "cell_type": "code",
      "source": [
        "class Discriminator(nn.Module):\n",
        "  def __init__(self):\n",
        "    super().__init__()\n",
        "    self.model = nn.Sequential(\n",
        "    nn.Linear(784, 1024),\n",
        "    nn.LeakyReLU(0.2),\n",
        "    nn.Dropout(0.3),\n",
        "    nn.Linear(1024, 512),\n",
        "    nn.LeakyReLU(0.2),\n",
        "    nn.Dropout(0.3),\n",
        "    nn.Linear(512, 256),\n",
        "    nn.LeakyReLU(0.2),\n",
        "    nn.Dropout(0.3),\n",
        "    nn.Linear(256, 1),\n",
        "    nn.Sigmoid()\n",
        "    )\n",
        "  def forward(self, x):\n",
        "    return self.model(x)"
      ],
      "metadata": {
        "id": "QGNu40yUOet7"
      },
      "execution_count": 11,
      "outputs": []
    },
    {
      "cell_type": "code",
      "source": [
        "!pip install torch_summary\n",
        "from torchsummary import summary\n",
        "discriminator = Discriminator().to(device)\n",
        "summary(discriminator,torch.zeros(1,784))"
      ],
      "metadata": {
        "colab": {
          "base_uri": "https://localhost:8080/"
        },
        "id": "beOtXymGO40M",
        "outputId": "c638919a-2e8f-461d-c4e8-46e9de457a5d"
      },
      "execution_count": 12,
      "outputs": [
        {
          "output_type": "stream",
          "name": "stdout",
          "text": [
            "Collecting torch_summary\n",
            "  Downloading torch_summary-1.4.5-py3-none-any.whl.metadata (18 kB)\n",
            "Downloading torch_summary-1.4.5-py3-none-any.whl (16 kB)\n",
            "Installing collected packages: torch_summary\n",
            "Successfully installed torch_summary-1.4.5\n",
            "==========================================================================================\n",
            "Layer (type:depth-idx)                   Output Shape              Param #\n",
            "==========================================================================================\n",
            "├─Sequential: 1-1                        [-1, 1]                   --\n",
            "|    └─Linear: 2-1                       [-1, 1024]                803,840\n",
            "|    └─LeakyReLU: 2-2                    [-1, 1024]                --\n",
            "|    └─Dropout: 2-3                      [-1, 1024]                --\n",
            "|    └─Linear: 2-4                       [-1, 512]                 524,800\n",
            "|    └─LeakyReLU: 2-5                    [-1, 512]                 --\n",
            "|    └─Dropout: 2-6                      [-1, 512]                 --\n",
            "|    └─Linear: 2-7                       [-1, 256]                 131,328\n",
            "|    └─LeakyReLU: 2-8                    [-1, 256]                 --\n",
            "|    └─Dropout: 2-9                      [-1, 256]                 --\n",
            "|    └─Linear: 2-10                      [-1, 1]                   257\n",
            "|    └─Sigmoid: 2-11                     [-1, 1]                   --\n",
            "==========================================================================================\n",
            "Total params: 1,460,225\n",
            "Trainable params: 1,460,225\n",
            "Non-trainable params: 0\n",
            "Total mult-adds (M): 2.92\n",
            "==========================================================================================\n",
            "Input size (MB): 0.00\n",
            "Forward/backward pass size (MB): 0.01\n",
            "Params size (MB): 5.57\n",
            "Estimated Total Size (MB): 5.59\n",
            "==========================================================================================\n"
          ]
        },
        {
          "output_type": "execute_result",
          "data": {
            "text/plain": [
              "==========================================================================================\n",
              "Layer (type:depth-idx)                   Output Shape              Param #\n",
              "==========================================================================================\n",
              "├─Sequential: 1-1                        [-1, 1]                   --\n",
              "|    └─Linear: 2-1                       [-1, 1024]                803,840\n",
              "|    └─LeakyReLU: 2-2                    [-1, 1024]                --\n",
              "|    └─Dropout: 2-3                      [-1, 1024]                --\n",
              "|    └─Linear: 2-4                       [-1, 512]                 524,800\n",
              "|    └─LeakyReLU: 2-5                    [-1, 512]                 --\n",
              "|    └─Dropout: 2-6                      [-1, 512]                 --\n",
              "|    └─Linear: 2-7                       [-1, 256]                 131,328\n",
              "|    └─LeakyReLU: 2-8                    [-1, 256]                 --\n",
              "|    └─Dropout: 2-9                      [-1, 256]                 --\n",
              "|    └─Linear: 2-10                      [-1, 1]                   257\n",
              "|    └─Sigmoid: 2-11                     [-1, 1]                   --\n",
              "==========================================================================================\n",
              "Total params: 1,460,225\n",
              "Trainable params: 1,460,225\n",
              "Non-trainable params: 0\n",
              "Total mult-adds (M): 2.92\n",
              "==========================================================================================\n",
              "Input size (MB): 0.00\n",
              "Forward/backward pass size (MB): 0.01\n",
              "Params size (MB): 5.57\n",
              "Estimated Total Size (MB): 5.59\n",
              "=========================================================================================="
            ]
          },
          "metadata": {},
          "execution_count": 12
        }
      ]
    },
    {
      "cell_type": "code",
      "source": [
        "class Generator(nn.Module):\n",
        "  def __init__(self):\n",
        "    super().__init__()\n",
        "    self.model = nn.Sequential(\n",
        "    nn.Linear(100, 256),\n",
        "    nn.LeakyReLU(0.2),\n",
        "    nn.Linear(256, 512),\n",
        "    nn.LeakyReLU(0.2),\n",
        "    nn.Linear(512, 1024),\n",
        "    nn.LeakyReLU(0.2),\n",
        "    nn.Linear(1024, 784),\n",
        "    nn.Tanh()\n",
        "    )\n",
        "  def forward(self, x):\n",
        "    return self.model(x)"
      ],
      "metadata": {
        "id": "DkgtGoacQxNm"
      },
      "execution_count": 13,
      "outputs": []
    },
    {
      "cell_type": "code",
      "source": [
        "generator = Generator().to(device)\n",
        "summary(generator,torch.zeros(1,100))"
      ],
      "metadata": {
        "colab": {
          "base_uri": "https://localhost:8080/"
        },
        "id": "eD2MnGzQRGWj",
        "outputId": "d737f028-b991-44fa-cce0-576c747be31a"
      },
      "execution_count": 14,
      "outputs": [
        {
          "output_type": "stream",
          "name": "stdout",
          "text": [
            "==========================================================================================\n",
            "Layer (type:depth-idx)                   Output Shape              Param #\n",
            "==========================================================================================\n",
            "├─Sequential: 1-1                        [-1, 784]                 --\n",
            "|    └─Linear: 2-1                       [-1, 256]                 25,856\n",
            "|    └─LeakyReLU: 2-2                    [-1, 256]                 --\n",
            "|    └─Linear: 2-3                       [-1, 512]                 131,584\n",
            "|    └─LeakyReLU: 2-4                    [-1, 512]                 --\n",
            "|    └─Linear: 2-5                       [-1, 1024]                525,312\n",
            "|    └─LeakyReLU: 2-6                    [-1, 1024]                --\n",
            "|    └─Linear: 2-7                       [-1, 784]                 803,600\n",
            "|    └─Tanh: 2-8                         [-1, 784]                 --\n",
            "==========================================================================================\n",
            "Total params: 1,486,352\n",
            "Trainable params: 1,486,352\n",
            "Non-trainable params: 0\n",
            "Total mult-adds (M): 2.97\n",
            "==========================================================================================\n",
            "Input size (MB): 0.00\n",
            "Forward/backward pass size (MB): 0.02\n",
            "Params size (MB): 5.67\n",
            "Estimated Total Size (MB): 5.69\n",
            "==========================================================================================\n"
          ]
        },
        {
          "output_type": "execute_result",
          "data": {
            "text/plain": [
              "==========================================================================================\n",
              "Layer (type:depth-idx)                   Output Shape              Param #\n",
              "==========================================================================================\n",
              "├─Sequential: 1-1                        [-1, 784]                 --\n",
              "|    └─Linear: 2-1                       [-1, 256]                 25,856\n",
              "|    └─LeakyReLU: 2-2                    [-1, 256]                 --\n",
              "|    └─Linear: 2-3                       [-1, 512]                 131,584\n",
              "|    └─LeakyReLU: 2-4                    [-1, 512]                 --\n",
              "|    └─Linear: 2-5                       [-1, 1024]                525,312\n",
              "|    └─LeakyReLU: 2-6                    [-1, 1024]                --\n",
              "|    └─Linear: 2-7                       [-1, 784]                 803,600\n",
              "|    └─Tanh: 2-8                         [-1, 784]                 --\n",
              "==========================================================================================\n",
              "Total params: 1,486,352\n",
              "Trainable params: 1,486,352\n",
              "Non-trainable params: 0\n",
              "Total mult-adds (M): 2.97\n",
              "==========================================================================================\n",
              "Input size (MB): 0.00\n",
              "Forward/backward pass size (MB): 0.02\n",
              "Params size (MB): 5.67\n",
              "Estimated Total Size (MB): 5.69\n",
              "=========================================================================================="
            ]
          },
          "metadata": {},
          "execution_count": 14
        }
      ]
    },
    {
      "cell_type": "code",
      "source": [
        "def noise(size):\n",
        "  n = torch.randn(size, 100)\n",
        "  return n.to(device)"
      ],
      "metadata": {
        "id": "CcxYxn5SRK8w"
      },
      "execution_count": 15,
      "outputs": []
    },
    {
      "cell_type": "code",
      "source": [
        "def discriminator_train_step(real_data, fake_data, d_optimizer, loss):\n",
        "  d_optimizer.zero_grad()\n",
        "  prediction_real = discriminator(real_data)\n",
        "  error_real = loss(prediction_real, torch.ones(len(real_data),1).to(device))\n",
        "  error_real.backward()\n",
        "  prediction_fake = discriminator(fake_data)\n",
        "  error_fake = loss(prediction_fake, torch.zeros(len(fake_data),1).to(device))\n",
        "  error_fake.backward()\n",
        "  d_optimizer.step()\n",
        "  return error_real + error_fake"
      ],
      "metadata": {
        "id": "yZq2yrJfRRaj"
      },
      "execution_count": 16,
      "outputs": []
    },
    {
      "cell_type": "code",
      "source": [
        "def generator_train_step(fake_data, real_data_size, g_optimizer, loss):\n",
        "  g_optimizer.zero_grad()\n",
        "  prediction = discriminator(fake_data)\n",
        "  error = loss(prediction, torch.ones(real_data_size,1).to(device))\n",
        "  error.backward()\n",
        "  g_optimizer.step()\n",
        "  return error"
      ],
      "metadata": {
        "id": "VgaBrIz9Ssa9"
      },
      "execution_count": 17,
      "outputs": []
    },
    {
      "cell_type": "code",
      "source": [
        "discriminator = Discriminator().to(device)\n",
        "generator = Generator().to(device)\n",
        "d_optimizer= optim.Adam(discriminator.parameters(),lr=0.0002)\n",
        "g_optimizer = optim.Adam(generator.parameters(), lr=0.0002)\n",
        "loss = nn.BCELoss()\n",
        "num_epochs = 200\n",
        "log = Report(num_epochs)"
      ],
      "metadata": {
        "id": "HjXsiBVqTLXV"
      },
      "execution_count": 18,
      "outputs": []
    },
    {
      "cell_type": "code",
      "source": [
        "for epoch in range(num_epochs):\n",
        "  N = len(data_loader)\n",
        "  for i, (images, _) in enumerate(data_loader):\n",
        "    real_data = images.view(len(images), -1).to(device)\n",
        "    fake_data = generator(noise(len(real_data))).to(device)\n",
        "    fake_data = fake_data.detach()\n",
        "    d_loss = discriminator_train_step(real_data, fake_data, d_optimizer, loss)\n",
        "\n",
        "    fake_data = generator(noise(len(real_data))).to(device)\n",
        "    g_loss = generator_train_step(fake_data, len(real_data), g_optimizer, loss)\n",
        "    log.record(epoch+(i+1)/N, d_loss=d_loss.item(), g_loss=g_loss.item(), end='\\r')\n",
        "  log.report_avgs(epoch+1)\n",
        "log.plot_epochs(['d_loss', 'g_loss'])"
      ],
      "metadata": {
        "colab": {
          "base_uri": "https://localhost:8080/"
        },
        "id": "lfTR75krdGQR",
        "outputId": "eaedbdab-c163-4dee-e678-4f099ee971b8"
      },
      "execution_count": null,
      "outputs": [
        {
          "output_type": "stream",
          "name": "stdout",
          "text": [
            "EPOCH: 1.000\td_loss: 0.603\tg_loss: 4.760\t(19.65s - 3910.62s remaining)\n",
            "EPOCH: 2.000\td_loss: 0.459\tg_loss: 7.571\t(34.48s - 3413.25s remaining)\n",
            "EPOCH: 3.000\td_loss: 0.833\tg_loss: 3.258\t(49.29s - 3236.61s remaining)\n",
            "EPOCH: 4.000\td_loss: 1.026\tg_loss: 1.899\t(63.58s - 3115.35s remaining)\n",
            "EPOCH: 5.000\td_loss: 0.785\tg_loss: 2.549\t(78.60s - 3065.21s remaining)\n",
            "EPOCH: 6.000\td_loss: 0.550\tg_loss: 2.859\t(92.91s - 3004.01s remaining)\n",
            "EPOCH: 7.000\td_loss: 0.471\tg_loss: 2.911\t(107.82s - 2972.67s remaining)\n",
            "EPOCH: 8.000\td_loss: 0.434\tg_loss: 3.307\t(122.44s - 2938.54s remaining)\n",
            "EPOCH: 9.000\td_loss: 0.422\tg_loss: 3.378\t(136.81s - 2903.34s remaining)\n",
            "EPOCH: 10.000\td_loss: 0.502\tg_loss: 2.847\t(151.06s - 2870.08s remaining)\n",
            "EPOCH: 11.000\td_loss: 0.510\tg_loss: 2.762\t(165.31s - 2840.28s remaining)\n",
            "EPOCH: 12.000\td_loss: 0.519\tg_loss: 2.934\t(179.85s - 2817.57s remaining)\n",
            "EPOCH: 13.000\td_loss: 0.591\tg_loss: 2.608\t(194.52s - 2798.04s remaining)\n",
            "EPOCH: 14.000\td_loss: 0.588\tg_loss: 2.551\t(208.75s - 2773.42s remaining)\n",
            "EPOCH: 15.000\td_loss: 0.631\tg_loss: 2.542\t(223.05s - 2750.97s remaining)\n",
            "EPOCH: 16.000\td_loss: 0.714\tg_loss: 2.165\t(237.31s - 2729.10s remaining)\n",
            "EPOCH: 17.000\td_loss: 0.723\tg_loss: 2.060\t(251.78s - 2710.33s remaining)\n",
            "EPOCH: 18.000\td_loss: 0.743\tg_loss: 2.097\t(266.81s - 2697.78s remaining)\n",
            "EPOCH: 19.000\td_loss: 0.743\tg_loss: 2.015\t(281.36s - 2680.31s remaining)\n",
            "EPOCH: 20.000\td_loss: 0.769\tg_loss: 1.956\t(295.92s - 2663.29s remaining)\n",
            "EPOCH: 21.000\td_loss: 0.843\tg_loss: 1.864\t(310.51s - 2646.70s remaining)\n",
            "EPOCH: 22.000\td_loss: 0.804\tg_loss: 1.921\t(325.36s - 2632.42s remaining)\n",
            "EPOCH: 23.000\td_loss: 0.807\tg_loss: 1.878\t(340.04s - 2616.85s remaining)\n",
            "EPOCH: 24.000\td_loss: 0.832\tg_loss: 1.865\t(354.67s - 2600.95s remaining)\n",
            "EPOCH: 25.000\td_loss: 0.804\tg_loss: 1.910\t(369.01s - 2583.10s remaining)\n",
            "EPOCH: 26.000\td_loss: 0.838\tg_loss: 1.798\t(383.28s - 2565.01s remaining)\n",
            "EPOCH: 27.000\td_loss: 0.828\tg_loss: 1.799\t(397.82s - 2549.02s remaining)\n",
            "EPOCH: 28.000\td_loss: 0.861\tg_loss: 1.718\t(412.51s - 2533.97s remaining)\n",
            "EPOCH: 29.000\td_loss: 0.897\tg_loss: 1.624\t(426.79s - 2516.57s remaining)\n",
            "EPOCH: 30.000\td_loss: 0.941\tg_loss: 1.515\t(441.18s - 2500.01s remaining)\n",
            "EPOCH: 31.000\td_loss: 0.951\tg_loss: 1.516\t(455.30s - 2482.11s remaining)\n",
            "EPOCH: 32.000\td_loss: 0.955\tg_loss: 1.533\t(469.68s - 2465.82s remaining)\n",
            "EPOCH: 33.000\td_loss: 0.949\tg_loss: 1.537\t(484.13s - 2450.01s remaining)\n",
            "EPOCH: 34.000\td_loss: 0.957\tg_loss: 1.510\t(498.36s - 2433.16s remaining)\n",
            "EPOCH: 35.000\td_loss: 0.986\tg_loss: 1.478\t(512.60s - 2416.56s remaining)\n",
            "EPOCH: 36.000\td_loss: 0.987\tg_loss: 1.443\t(526.87s - 2400.17s remaining)\n",
            "EPOCH: 37.000\td_loss: 0.973\tg_loss: 1.489\t(541.07s - 2383.65s remaining)\n",
            "EPOCH: 38.000\td_loss: 0.994\tg_loss: 1.430\t(556.01s - 2370.36s remaining)\n",
            "EPOCH: 39.000\td_loss: 0.992\tg_loss: 1.434\t(570.27s - 2354.19s remaining)\n",
            "EPOCH: 40.000\td_loss: 1.016\tg_loss: 1.385\t(584.59s - 2338.36s remaining)\n",
            "EPOCH: 41.000\td_loss: 1.030\tg_loss: 1.355\t(598.88s - 2322.50s remaining)\n",
            "EPOCH: 42.000\td_loss: 1.010\tg_loss: 1.385\t(613.15s - 2306.61s remaining)\n",
            "EPOCH: 43.000\td_loss: 1.037\tg_loss: 1.320\t(628.12s - 2293.37s remaining)\n",
            "EPOCH: 44.000\td_loss: 1.054\tg_loss: 1.307\t(642.45s - 2277.77s remaining)\n",
            "EPOCH: 45.000\td_loss: 1.065\tg_loss: 1.265\t(656.92s - 2262.72s remaining)\n",
            "EPOCH: 46.000\td_loss: 1.065\tg_loss: 1.302\t(671.32s - 2247.47s remaining)\n",
            "EPOCH: 47.000\td_loss: 1.067\tg_loss: 1.269\t(685.91s - 2232.85s remaining)\n",
            "EPOCH: 48.000\td_loss: 1.075\tg_loss: 1.258\t(700.91s - 2219.56s remaining)\n",
            "EPOCH: 49.000\td_loss: 1.079\tg_loss: 1.254\t(715.06s - 2203.56s remaining)\n",
            "EPOCH: 50.000\td_loss: 1.104\tg_loss: 1.216\t(729.32s - 2187.95s remaining)\n",
            "EPOCH: 51.000\td_loss: 1.107\tg_loss: 1.202\t(743.51s - 2172.22s remaining)\n",
            "EPOCH: 52.000\td_loss: 1.108\tg_loss: 1.197\t(757.93s - 2157.19s remaining)\n",
            "EPOCH: 53.000\td_loss: 1.083\tg_loss: 1.243\t(773.74s - 2146.02s remaining)\n",
            "EPOCH: 54.000\td_loss: 1.101\tg_loss: 1.210\t(788.63s - 2132.22s remaining)\n",
            "EPOCH: 55.000\td_loss: 1.117\tg_loss: 1.179\t(803.54s - 2118.42s remaining)\n",
            "EPOCH: 56.000\td_loss: 1.112\tg_loss: 1.173\t(818.48s - 2104.67s remaining)\n",
            "EPOCH: 57.000\td_loss: 1.123\tg_loss: 1.173\t(833.80s - 2091.82s remaining)\n",
            "EPOCH: 58.000\td_loss: 1.113\tg_loss: 1.187\t(848.36s - 2077.03s remaining)\n",
            "EPOCH: 59.000\td_loss: 1.139\tg_loss: 1.142\t(863.11s - 2062.69s remaining)\n",
            "EPOCH: 60.000\td_loss: 1.131\tg_loss: 1.160\t(877.56s - 2047.65s remaining)\n",
            "EPOCH: 61.000\td_loss: 1.141\tg_loss: 1.125\t(892.31s - 2033.30s remaining)\n",
            "EPOCH: 62.000\td_loss: 1.128\tg_loss: 1.161\t(906.91s - 2018.60s remaining)\n",
            "EPOCH: 63.000\td_loss: 1.134\tg_loss: 1.127\t(921.21s - 2003.26s remaining)\n",
            "EPOCH: 64.000\td_loss: 1.159\tg_loss: 1.098\t(935.63s - 1988.22s remaining)\n",
            "EPOCH: 65.000\td_loss: 1.161\tg_loss: 1.093\t(950.31s - 1973.73s remaining)\n",
            "EPOCH: 66.000\td_loss: 1.159\tg_loss: 1.098\t(965.37s - 1959.99s remaining)\n",
            "EPOCH: 66.032\td_loss: 1.226\tg_loss: 0.985\t(966.03s - 1959.91s remaining)"
          ]
        }
      ]
    },
    {
      "cell_type": "code",
      "source": [
        "from matplotlib import pyplot as plt\n",
        "\n",
        "def show(grid_tensor, sz=5):\n",
        "    plt.figure(figsize=(sz, sz))\n",
        "    plt.imshow(grid_tensor)\n",
        "    plt.axis('off')\n",
        "    plt.show()"
      ],
      "metadata": {
        "id": "g-MLWvwenkc7"
      },
      "execution_count": null,
      "outputs": []
    },
    {
      "cell_type": "code",
      "source": [
        "z = torch.randn(64, 100).to(device)\n",
        "sample_images = generator(z).data.cpu().view(64, 1, 28, 28)\n",
        "grid = make_grid(sample_images, nrow=8, normalize = True)\n",
        "show(grid.cpu().detach().permut(1,2,0), sz=5)"
      ],
      "metadata": {
        "id": "snO1S_ALlDB3"
      },
      "execution_count": null,
      "outputs": []
    }
  ]
}